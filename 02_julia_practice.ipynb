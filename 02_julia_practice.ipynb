{
 "cells": [
  {
   "cell_type": "markdown",
   "id": "b119252a-9c1b-465b-a781-8c87edab2440",
   "metadata": {
    "nbgrader": {
     "grade": false,
     "grade_id": "cell-8532eff4fe776354",
     "locked": true,
     "schema_version": 3,
     "solution": false,
     "task": false
    },
    "tags": []
   },
   "source": [
    "## Assignment: Types and Methods in  Julia\n",
    "\n",
    "The purpose of this assignment is to get you up to speed with reading and writing simple Julia programs.  Julia is a very human-friendly language with a readable syntax. However, it is different from other languages you may have used before, so it is worthwhile to spend some time learning the basics.\n",
    "\n",
    "The exercises here will build on what we learned in the lecture notes.\n",
    "\n",
    "One of the main skills you will learn as you work on this assignment is the ability to translate from a written description of a task or a problem into the correct Julia problem. This is a skill you will need later in the course."
   ]
  },
  {
   "cell_type": "markdown",
   "id": "0a782e9e-83b9-4af2-a4aa-6eb18b915848",
   "metadata": {
    "nbgrader": {
     "grade": false,
     "grade_id": "cell-4f4208066900abc7",
     "locked": true,
     "schema_version": 3,
     "solution": false,
     "task": false
    },
    "tags": []
   },
   "source": [
    "## Exercise 1\n",
    "\n",
    "Suppose you work at an e-commerce firm and are tasked with writing Julia code for representing customers, items, and orders.\n",
    "\n",
    "For a customer, you need to retain the following information:\n",
    "\n",
    "- First name (`first_name`)\n",
    "- Last name (`last_name`)\n",
    "- Email address (`email`)\n",
    "- Address (`address`)\n",
    "\n",
    "An address is made up of the following:\n",
    "\n",
    "- Street number (`street_number`)\n",
    "- Street name (`street_name`)\n",
    "- Unit or apartment number (`unit`)\n",
    "- City (`city`)\n",
    "- State (`state`)\n",
    "- Zip (`zip`)\n",
    "\n",
    "For example, `1136 North 35th Street, Mesa AZ, 85213` would have\n",
    "\n",
    "- Street number: 1136\n",
    "- Street name:  North 35th Street\n",
    "- Unit: `` (meaning nothing)\n",
    "- City: Mesa\n",
    "- State: Arizona\n",
    "- Zip: 85213\n",
    "\n",
    "Your first task is to crete two structs, one to represent an address and a second one to represent a customer. The customer type should have 4 fields (use the names given in parenthesis in list above) and the address type should have 6 fields. Be sure to declare the proper Julia type for each field"
   ]
  },
  {
   "cell_type": "code",
   "execution_count": 1,
   "id": "b749c1d5-216d-4a9f-8ed1-53538b33b72c",
   "metadata": {
    "nbgrader": {
     "grade": false,
     "grade_id": "cell-bfb2527bf75b70d1",
     "locked": false,
     "schema_version": 3,
     "solution": true,
     "task": false
    },
    "tags": []
   },
   "outputs": [],
   "source": [
    "# TODO: your code here\n",
    "struct Address\n",
    "    street_number::Int64\n",
    "    street_name::String\n",
    "    unit\n",
    "    city::String\n",
    "    state::String\n",
    "    zip::Int64\n",
    "end\n",
    "\n",
    "struct Customer\n",
    "    first_name::String\n",
    "    last_name::String\n",
    "    email::String\n",
    "    address::Address\n",
    "end"
   ]
  },
  {
   "cell_type": "code",
   "execution_count": 2,
   "id": "729fe184-af9d-4705-9dfa-23ef662e60e1",
   "metadata": {
    "nbgrader": {
     "grade": true,
     "grade_id": "cell-a43ac13f20ffc4b3",
     "locked": true,
     "points": 10,
     "schema_version": 3,
     "solution": false,
     "task": false
    },
    "tags": []
   },
   "outputs": [
    {
     "name": "stdout",
     "output_type": "stream",
     "text": [
      "\u001b[0m\u001b[1mTest Summary: | \u001b[22m\u001b[32m\u001b[1mPass  \u001b[22m\u001b[39m\u001b[36m\u001b[1mTotal  \u001b[22m\u001b[39m\u001b[0m\u001b[1mTime\u001b[22m\n",
      "ex1           | \u001b[32m   4  \u001b[39m"
     ]
    },
    {
     "name": "stdout",
     "output_type": "stream",
     "text": [
      "\u001b[36m    4  \u001b[39m\u001b[0m0.9s\n"
     ]
    }
   ],
   "source": [
    "# test code\n",
    "using Test\n",
    "\n",
    "@testset \"ex1\" begin\n",
    "    @test Set(fieldnames(Customer)) == Set([:address, :email, :last_name, :first_name])\n",
    "    @test Set(fieldnames(Address)) == Set([:street_name, :zip, :unit, :state, :street_number, :city])\n",
    "    @test fieldtype(Customer, :address) == Address\n",
    "    @test fieldtype(Address, :zip) == Int\n",
    "end;"
   ]
  },
  {
   "cell_type": "markdown",
   "id": "a8a6f8e9-eaef-4105-b46e-e9b6bfd7202e",
   "metadata": {
    "nbgrader": {
     "grade": false,
     "grade_id": "cell-74d6263d84e5c8f2",
     "locked": true,
     "schema_version": 3,
     "solution": false,
     "task": false
    },
    "tags": []
   },
   "source": [
    "## Exercise 2\n",
    "\n",
    "Your boss now asks you to write a couple functions that will help other employees at your company understand your new data types.\n",
    "\n",
    "In particular you are asked to create a new function `formatted` with two methods: `formatted(::Customer)` and `formatted(::Address)`\n",
    "\n",
    "The method for the `Customer` should return a string containing the customer's full name (first and last)\n",
    "\n",
    "The method for the `Address` should return an address formatted like the following\n",
    "\n",
    "```\n",
    "street_number street_name unit\n",
    "city, state zip\n",
    "```\n",
    "\n",
    "For example:\n",
    "\n",
    "```\n",
    "123 Main Street Apt 42\n",
    "Orlando, Florida 34788\n",
    "```"
   ]
  },
  {
   "cell_type": "code",
   "execution_count": 3,
   "id": "b0a27b8c-0835-4de4-973c-41d2cae7a1f6",
   "metadata": {
    "nbgrader": {
     "grade": false,
     "grade_id": "cell-8eba4680184ca385",
     "locked": false,
     "schema_version": 3,
     "solution": true,
     "task": false
    },
    "tags": []
   },
   "outputs": [
    {
     "data": {
      "text/plain": [
       "formatted (generic function with 2 methods)"
      ]
     },
     "metadata": {},
     "output_type": "display_data"
    }
   ],
   "source": [
    "# TODO: your code here\n",
    "function formatted(cust::Customer)\n",
    "    fullname=string(cust.first_name,\" \",cust.last_name)\n",
    "    return fullname\n",
    "end\n",
    "function formatted(addr::Address)\n",
    "    frmtadd=string(addr.street_number,\" \",addr.street_name,\" \",addr.unit,\"\\n\",addr.city,\" \",addr.state,\" \",addr.zip)\n",
    "    return frmtadd\n",
    "end\n",
    "\n"
   ]
  },
  {
   "cell_type": "code",
   "execution_count": 4,
   "id": "da4da32e-8d89-4751-8475-24e72427383a",
   "metadata": {
    "nbgrader": {
     "grade": false,
     "grade_id": "cell-aa9adf593ee70113",
     "locked": true,
     "schema_version": 3,
     "solution": false,
     "task": false
    },
    "tags": []
   },
   "outputs": [
    {
     "data": {
      "text/plain": [
       "Customer(\"Bill\", \"Bob\", \"bill@bob.com\", Address(123, \"Main Street\", \"Apt. 42\", \"Orlando\", \"Florida\", 34788))"
      ]
     },
     "metadata": {},
     "output_type": "display_data"
    }
   ],
   "source": [
    "test_address = Address(123, \"Main Street\", \"Apt. 42\", \"Orlando\", \"Florida\", 34788)\n",
    "test_customer = Customer(\"Bill\", \"Bob\", \"bill@bob.com\", test_address) "
   ]
  },
  {
   "cell_type": "code",
   "execution_count": 5,
   "id": "d51bb9ac-a607-4195-ad15-764ae4caa2e8",
   "metadata": {
    "nbgrader": {
     "grade": true,
     "grade_id": "cell-abb76df26ea01164",
     "locked": true,
     "points": 10,
     "schema_version": 3,
     "solution": false,
     "task": false
    },
    "tags": []
   },
   "outputs": [
    {
     "name": "stdout",
     "output_type": "stream",
     "text": [
      "\u001b[0m\u001b[1mTest Summary: | \u001b[22m\u001b[32m\u001b[1mPass  \u001b[22m\u001b[39m\u001b[36m\u001b[1mTotal  \u001b[22m\u001b[39m\u001b[0m\u001b[1mTime\u001b[22m\n",
      "ex2           | \u001b[32m   3  \u001b[39m\u001b[36m    3  \u001b[39m\u001b[0m0.1s\n"
     ]
    },
    {
     "data": {
      "text/plain": [
       "Test.DefaultTestSet(\"ex2\", Any[], 3, false, false, true, 1.694301418515e9, 1.694301418589e9, false)"
      ]
     },
     "metadata": {},
     "output_type": "display_data"
    }
   ],
   "source": [
    "@testset \"ex2\" begin\n",
    "    @test formatted(test_customer) == \"Bill Bob\"\n",
    "    @test strip(formatted(test_address)) == \"123 Main Street Apt. 42\\nOrlando Florida 34788\"\n",
    "    @test formatted(test_address) == formatted(test_customer.address)\n",
    "end"
   ]
  },
  {
   "cell_type": "markdown",
   "id": "aa9c3ad7-da84-4ae2-9740-afec46e5762a",
   "metadata": {
    "nbgrader": {
     "grade": false,
     "grade_id": "cell-7ab8f4ec2d384e2a",
     "locked": true,
     "schema_version": 3,
     "solution": false,
     "task": false
    },
    "tags": []
   },
   "source": [
    "## Exercise 3\n",
    "\n",
    "Now that you have a Customer type, you are asked by your boss to create a function `greeting` that will return a string containing a welcome message.\n",
    "\n",
    "Your instructions for writing the welcome message are:\n",
    "\n",
    "- Include the customer's full name (first and last)\n",
    "- Note that the shipments will be sent to the customer's address\n",
    "- Seem happy/excited by having at least two `!`s\n",
    "\n",
    "> Hint: utilize your `formatted` methods above"
   ]
  },
  {
   "cell_type": "code",
   "execution_count": 6,
   "id": "e20093cf-24c7-4357-a8bd-90117bcc3f58",
   "metadata": {
    "nbgrader": {
     "grade": false,
     "grade_id": "cell-08feb8e82cb963ca",
     "locked": false,
     "schema_version": 3,
     "solution": true,
     "task": false
    },
    "tags": []
   },
   "outputs": [
    {
     "data": {
      "text/plain": [
       "\"Hi Bill Bob your shipment will be sent to 123 Main Street Apt. 42\\nOrlando Florida 34788 stay calm!!\""
      ]
     },
     "metadata": {},
     "output_type": "display_data"
    }
   ],
   "source": [
    "# TODO: your code here\n",
    "#using formatted\n",
    "\n",
    "function greeting(test_customer)\n",
    "    msg=\"Hi $(formatted(test_customer)) your shipment will be sent to $(formatted(test_address)) stay calm!!\"\n",
    "    return msg\n",
    "end\n",
    "\n",
    "test_address = Address(123, \"Main Street\", \"Apt. 42\", \"Orlando\", \"Florida\", 34788)\n",
    "test_customer = Customer(\"Bill\", \"Bob\", \"bill@bob.com\", test_address) \n",
    "\n",
    "greeting(test_customer)\n",
    "\n",
    "\n",
    "\n"
   ]
  },
  {
   "cell_type": "code",
   "execution_count": 7,
   "id": "d2a075cb-1ea2-4551-b7ab-d501a6b53496",
   "metadata": {
    "nbgrader": {
     "grade": true,
     "grade_id": "cell-cc6ddf877baf039e",
     "locked": true,
     "points": 10,
     "schema_version": 3,
     "solution": false,
     "task": false
    },
    "tags": []
   },
   "outputs": [
    {
     "name": "stdout",
     "output_type": "stream",
     "text": [
      "\u001b[0m\u001b[1mTest Summary: | \u001b[22m\u001b[32m\u001b[1mPass  \u001b[22m\u001b[39m\u001b[36m\u001b[1mTotal  \u001b[22m\u001b[39m\u001b[0m\u001b[1mTime\u001b[22m\n",
      "ex3           | \u001b[32m   3  \u001b[39m\u001b[36m    3  \u001b[39m\u001b[0m0.1s\n"
     ]
    }
   ],
   "source": [
    "@testset \"ex3\" begin\n",
    "    g = greeting(test_customer)\n",
    "    @test count(==('!'), g) >= 2\n",
    "    @test occursin(formatted(test_customer), g)\n",
    "    @test occursin(formatted(test_customer.address), g)\n",
    "end;"
   ]
  },
  {
   "cell_type": "markdown",
   "id": "6224e57a-4e7f-426a-afdc-c8c8a795c4ec",
   "metadata": {
    "nbgrader": {
     "grade": false,
     "grade_id": "cell-2852ccc44485370e",
     "locked": true,
     "schema_version": 3,
     "solution": false,
     "task": false
    },
    "tags": []
   },
   "source": [
    "## Exercise 4\n",
    "\n",
    "Now it's time to represent items\n",
    "\n",
    "Suppose your company is a clothing retailer\n",
    "\n",
    "Each item has the following properties\n",
    "\n",
    "- kind (e.g. shirt, pants, shorts, shoes...)\n",
    "- size\n",
    "- color\n",
    "\n",
    "Create a struct `Item` that can represent these items. Also assume that all sizes are numeric (no \"S\", \"M\", \"L\"; but rather 2, 6, 10)\n",
    "\n",
    "Make the `color` field an instance of the `Colorant` type from the `Colors` package"
   ]
  },
  {
   "cell_type": "code",
   "execution_count": 8,
   "id": "881fc841-e124-4022-9510-3aa1e56dd611",
   "metadata": {
    "nbgrader": {
     "grade": false,
     "grade_id": "cell-9eaf5e51d828172a",
     "locked": true,
     "schema_version": 3,
     "solution": false,
     "task": false
    },
    "tags": []
   },
   "outputs": [],
   "source": [
    "using Colors\n",
    "\n",
    "struct Item\n",
    "    kind::String\n",
    "    size::Int64\n",
    "    color::Colors.Colorant\n",
    "\n",
    "end"
   ]
  },
  {
   "cell_type": "code",
   "execution_count": 8,
   "id": "3aa0339d-5a0f-4040-8b6a-6a4a2b42f42e",
   "metadata": {
    "nbgrader": {
     "grade": false,
     "grade_id": "cell-3495525e8fbade3b",
     "locked": false,
     "schema_version": 3,
     "solution": true,
     "task": false
    },
    "tags": []
   },
   "outputs": [
    {
     "name": "stderr",
     "output_type": "stream",
     "text": [
      "\u001b[32m\u001b[1m    Updating\u001b[22m\u001b[39m registry at `C:\\Users\\Sruthi\\.julia\\registries\\General.toml`\n"
     ]
    },
    {
     "name": "stderr",
     "output_type": "stream",
     "text": [
      "\u001b[32m\u001b[1m   Resolving\u001b[22m\u001b[39m package versions..."
     ]
    },
    {
     "name": "stderr",
     "output_type": "stream",
     "text": [
      "\n"
     ]
    },
    {
     "name": "stderr",
     "output_type": "stream",
     "text": [
      "\u001b[32m\u001b[1m   Installed\u001b[22m\u001b[39m FixedPointNumbers ─ v0.8.4\n"
     ]
    },
    {
     "name": "stderr",
     "output_type": "stream",
     "text": [
      "\u001b[32m\u001b[1m   Installed\u001b[22m\u001b[39m ColorTypes ──────── v0.11.4\n"
     ]
    },
    {
     "name": "stderr",
     "output_type": "stream",
     "text": [
      "\u001b[32m\u001b[1m   Installed\u001b[22m\u001b[39m Colors ──────────── v0.12.10\n"
     ]
    },
    {
     "name": "stderr",
     "output_type": "stream",
     "text": [
      "\u001b[32m\u001b[1m    Updating\u001b[22m\u001b[39m `C:\\Users\\Sruthi\\.julia\\environments\\v1.9\\Project.toml`\n",
      "  \u001b[90m[5ae59095] \u001b[39m\u001b[92m+ Colors v0.12.10\u001b[39m\n",
      "\u001b[32m\u001b[1m    Updating\u001b[22m\u001b[39m `C:\\Users\\Sruthi\\.julia\\environments\\v1.9\\Manifest.toml`\n",
      "  \u001b[90m[3da002f7] \u001b[39m\u001b[92m+ ColorTypes v0.11.4\u001b[39m\n",
      "  \u001b[90m[5ae59095] \u001b[39m\u001b[92m+ Colors v0.12.10\u001b[39m\n",
      "  \u001b[90m[53c48c17] \u001b[39m\u001b[92m+ FixedPointNumbers v0.8.4\u001b[39m\n"
     ]
    },
    {
     "name": "stderr",
     "output_type": "stream",
     "text": [
      "\u001b[32m\u001b[1mPrecompiling\u001b[22m\u001b[39m"
     ]
    },
    {
     "name": "stderr",
     "output_type": "stream",
     "text": [
      " project...\n"
     ]
    },
    {
     "name": "stderr",
     "output_type": "stream",
     "text": [
      "\u001b[32m  ✓ \u001b[39m\u001b[90mFixedPointNumbers\u001b[39m\n"
     ]
    },
    {
     "name": "stderr",
     "output_type": "stream",
     "text": [
      "\u001b[32m  ✓ \u001b[39m\u001b[90mColorTypes\u001b[39m\n"
     ]
    },
    {
     "name": "stderr",
     "output_type": "stream",
     "text": [
      "\u001b[32m  ✓ \u001b[39mColors\n",
      "  3 dependencies successfully precompiled in 18 seconds. 49 already precompiled.\n"
     ]
    }
   ],
   "source": [
    "# TODO: your code here\n",
    "import Pkg\n",
    "\n",
    "Pkg.add(\"Colors\")"
   ]
  },
  {
   "cell_type": "code",
   "execution_count": 9,
   "id": "39ff3a91-fc70-41f8-b606-9c27c39b4765",
   "metadata": {
    "nbgrader": {
     "grade": true,
     "grade_id": "cell-96dfed445e89223e",
     "locked": true,
     "points": 10,
     "schema_version": 3,
     "solution": false,
     "task": false
    },
    "tags": []
   },
   "outputs": [
    {
     "name": "stdout",
     "output_type": "stream",
     "text": [
      "\u001b[0m\u001b[1mTest Summary: | \u001b[22m\u001b[32m\u001b[1mPass  \u001b[22m\u001b[39m\u001b[36m\u001b[1mTotal  \u001b[22m\u001b[39m\u001b[0m\u001b[1mTime\u001b[22m\n",
      "ex4           | \u001b[32m   4  \u001b[39m\u001b[36m    4  \u001b[39m\u001b[0m0.0s\n"
     ]
    },
    {
     "data": {
      "text/plain": [
       "Test.DefaultTestSet(\"ex4\", Any[], 4, false, false, true, 1.694301514874e9, 1.69430151491e9, false)"
      ]
     },
     "metadata": {},
     "output_type": "display_data"
    }
   ],
   "source": [
    "test_color = colorant\"#004225\"\n",
    "test_item = Item(\"shoes\", 6, test_color)\n",
    "@testset \"ex4\" begin\n",
    "    @test Set(fieldnames(Item)) == Set([:kind, :size, :color])\n",
    "    @test fieldtype(Item, :kind) == String\n",
    "    @test fieldtype(Item, :size) == Int\n",
    "    @test fieldtype(Item, :color) == Colorant\n",
    "end"
   ]
  },
  {
   "cell_type": "markdown",
   "id": "f9fbc609-b81c-41ce-886e-4ee927de6ef3",
   "metadata": {
    "nbgrader": {
     "grade": false,
     "grade_id": "cell-520e929b6c2189ed",
     "locked": true,
     "schema_version": 3,
     "solution": false,
     "task": false
    },
    "tags": []
   },
   "source": [
    "## Exercise 5\n",
    "\n",
    "Finally we are ready to represent an order\n",
    "\n",
    "The fields of the `Order` struct should be:\n",
    "\n",
    "- customer\n",
    "- item\n",
    "- price\n",
    "\n",
    "Use the `Customer` and `Item` structs above as field types, also use an appropriate type for the `price` and `date` fields"
   ]
  },
  {
   "cell_type": "code",
   "execution_count": 15,
   "id": "2b21c8f5-408e-464b-8d22-6b2a4c472047",
   "metadata": {
    "nbgrader": {
     "grade": false,
     "grade_id": "cell-ef5295d47b895f5b",
     "locked": true,
     "schema_version": 3,
     "solution": false,
     "task": false
    },
    "tags": []
   },
   "outputs": [
    {
     "name": "stderr",
     "output_type": "stream",
     "text": [
      "\u001b[32m\u001b[1m   Resolving\u001b[22m\u001b[39m package versions...\n"
     ]
    },
    {
     "name": "stderr",
     "output_type": "stream",
     "text": [
      "\u001b[32m\u001b[1m    Updating\u001b[22m\u001b[39m `C:\\Users\\Sruthi\\.julia\\environments\\v1.9\\Project.toml`\n",
      "  \u001b[90m[ade2ca70] \u001b[39m\u001b[92m+ Dates\u001b[39m\n",
      "\u001b[32m\u001b[1m  No Changes\u001b[22m\u001b[39m to `C:\\Users\\Sruthi\\.julia\\environments\\v1.9\\Manifest.toml`"
     ]
    },
    {
     "name": "stderr",
     "output_type": "stream",
     "text": [
      "\n"
     ]
    }
   ],
   "source": [
    "using Dates # you will need this ;)\n",
    "\n",
    "import Pkg\n",
    "Pkg.add(\"Dates\")"
   ]
  },
  {
   "cell_type": "code",
   "execution_count": 10,
   "id": "dd553132-f9a2-4da7-a384-ef8a114df034",
   "metadata": {
    "nbgrader": {
     "grade": false,
     "grade_id": "cell-839adfbaa9c5d65f",
     "locked": false,
     "schema_version": 3,
     "solution": true,
     "task": false
    },
    "tags": []
   },
   "outputs": [],
   "source": [
    "# TODO: your code here\n",
    "using Dates\n",
    "struct Order\n",
    "    customer::Customer\n",
    "    item::Item\n",
    "    price::Float64\n",
    "    date::DateTime\n",
    "end"
   ]
  },
  {
   "cell_type": "code",
   "execution_count": 11,
   "id": "0e514928-83c7-48bc-a6cd-93ba5cea8893",
   "metadata": {
    "nbgrader": {
     "grade": true,
     "grade_id": "cell-8fef7e6c2460c89b",
     "locked": true,
     "points": 10,
     "schema_version": 3,
     "solution": false,
     "task": false
    },
    "tags": []
   },
   "outputs": [
    {
     "name": "stdout",
     "output_type": "stream",
     "text": [
      "\u001b[0m\u001b[1mTest Summary: | \u001b[22m\u001b[32m\u001b[1mPass  \u001b[22m\u001b[39m\u001b[36m\u001b[1mTotal  \u001b[22m\u001b[39m\u001b[0m\u001b[1mTime\u001b[22m\n",
      "ex5           | \u001b[32m   5  \u001b[39m\u001b[36m    5  \u001b[39m\u001b[0m0.0s"
     ]
    },
    {
     "name": "stdout",
     "output_type": "stream",
     "text": [
      "\n"
     ]
    }
   ],
   "source": [
    "@testset \"ex5\" begin\n",
    "    @test Set(fieldnames(Order)) == Set([:customer, :item, :price, :date])\n",
    "    @test fieldtype(Order, :date) == DateTime\n",
    "    @test fieldtype(Order, :customer) == Customer\n",
    "    @test fieldtype(Order, :item) == Item\n",
    "    @test fieldtype(Order, :price) <: AbstractFloat\n",
    "end;"
   ]
  },
  {
   "cell_type": "markdown",
   "id": "d33ae795-3ac2-4bca-8cec-c7af59a5ab29",
   "metadata": {
    "nbgrader": {
     "grade": false,
     "grade_id": "cell-fb61ca55934e47fb",
     "locked": true,
     "schema_version": 3,
     "solution": false,
     "task": false
    },
    "tags": []
   },
   "source": [
    "## Exercise 6\n",
    "\n",
    "Now that we can represent our data, let's start working with it.\n",
    "\n",
    "Next step is to define a function `value` with a few methods.\n",
    "\n",
    "In the read-only code cell below we have set up these methods and described their behavior in docstrings. Your task is to copy/paste what we have written into the code cell below that and actually implement the logic for each method\n",
    "\n",
    "```julia\n",
    "\"\"\"\n",
    "    value(o::Order)\n",
    "\n",
    "Total value of order to company (the price)\n",
    "\"\"\"\n",
    "function value(o::Order)\n",
    "\n",
    "end\n",
    "\n",
    "\"\"\"\n",
    "    value(orders::Vector{Order})\n",
    "\n",
    "Total value of a list of orders\n",
    "\"\"\"\n",
    "function value(orders::Vector{Order})\n",
    "end\n",
    "\n",
    "\"\"\"\n",
    "    value(c::Customer, orders::Vector{Order})\n",
    "\n",
    "Total value of customer to company given a list of orders (sum of \n",
    "value for each order made by the given customer)\n",
    "\"\"\"\n",
    "\n",
    "```"
   ]
  },
  {
   "cell_type": "code",
   "execution_count": 12,
   "id": "c5e571a9-7efc-47ef-ac47-2299f726227c",
   "metadata": {
    "nbgrader": {
     "grade": false,
     "grade_id": "cell-3d87af67c3b7d1cc",
     "locked": false,
     "schema_version": 3,
     "solution": true,
     "task": false
    },
    "tags": []
   },
   "outputs": [
    {
     "data": {
      "text/plain": [
       "value (generic function with 3 methods)"
      ]
     },
     "metadata": {},
     "output_type": "display_data"
    }
   ],
   "source": [
    "function value(o::Order)\n",
    "    x=Vector{Float64}()\n",
    "    push!(x,o.price)\n",
    "    return x[1]\n",
    "end\n",
    "\n",
    "function value(orders::Vector{Order})\n",
    "    y=Vector{Float64}()\n",
    "    for i in 1:length(orders)\n",
    "        append!(y,orders[i].price)\n",
    "    end\n",
    "    return sum(y)\n",
    "end\n",
    "\n",
    "\n",
    "function value(c::Customer, orders::Vector{Order})\n",
    "    a=0\n",
    "    for i in orders\n",
    "        if i.customer==c\n",
    "            a+=i.price\n",
    "        end\n",
    "    end\n",
    "    a\n",
    "end\n"
   ]
  },
  {
   "cell_type": "code",
   "execution_count": 13,
   "id": "770b0696-c420-46d6-90c8-cf88b1216070",
   "metadata": {
    "nbgrader": {
     "grade": true,
     "grade_id": "cell-ee9679dc45de0ad4",
     "locked": true,
     "points": 10,
     "schema_version": 3,
     "solution": false,
     "task": false
    },
    "tags": []
   },
   "outputs": [
    {
     "name": "stdout",
     "output_type": "stream",
     "text": [
      "\u001b[0m\u001b[1mTest Summary: | \u001b[22m\u001b[32m\u001b[1mPass  \u001b[22m\u001b[39m\u001b[36m\u001b[1mTotal  \u001b[22m\u001b[39m\u001b[0m\u001b[1mTime\u001b[22m\n",
      "ex6           | \u001b[32m   7  \u001b[39m\u001b[36m    7  \u001b[39m\u001b[0m0.3s\n"
     ]
    }
   ],
   "source": [
    "a2 = Address(456, \"Central Ave\", \"\", \"Orlando\", \"Florida\", 34768)\n",
    "c2 = Customer(\"Jill\", \"Jones\", \"jill@jones.com\", a2)\n",
    "i2 = Item(\"shirt\", 16, colorant\"red\")\n",
    "o1 = Order(test_customer, test_item, 15.99, DateTime(2022, 8, 29, 3, 4, 5))\n",
    "o2 = Order(c2, test_item, 15.99, DateTime(2022, 8, 29, 3, 4, 6))\n",
    "o3 = Order(c2, i2, 19.25, DateTime(2022, 8, 29, 3, 4, 7))\n",
    "@testset \"ex6\" begin\n",
    "    @test value(o1) == 15.99\n",
    "    @test value([o1, o1]) == 15.99*2\n",
    "    @test value([o1, o1, o2, o3]) == 15.99*2 + o2.price + o3.price\n",
    "    @test value(test_customer, [o1, o1]) == 15.99*2\n",
    "    @test value(test_customer, [o1, o1, o2, o3]) == 15.99*2\n",
    "    @test value(c2, [o1, o1]) == 0.0\n",
    "    @test value(c2, [o1, o1, o2, o3]) == o2.price + o3.price\n",
    "end;"
   ]
  },
  {
   "cell_type": "markdown",
   "id": "49625e2d-c427-4ddd-af6f-53a6c2ad0ebb",
   "metadata": {
    "nbgrader": {
     "grade": false,
     "grade_id": "cell-99f42c7ea7df5a70",
     "locked": true,
     "schema_version": 3,
     "solution": false,
     "task": false
    },
    "tags": []
   },
   "source": [
    "## Exercise 7\n",
    "\n",
    "Now your company wants you to produce a report that describes the behavior of your customers. \n",
    "\n",
    "In particular, your boss wants the following statistics, by customer:\n",
    "\n",
    "- Total value\n",
    "- Average order value\n",
    "- Number of unique items purchased\n",
    "- Number of total orders\n",
    "- Average price for any item ever purchased by the customer\n",
    "\n",
    "For this task you can assume you will be given a list of orders\n",
    "\n",
    "### Part 1\n",
    "\n",
    "You realize that this task will likely be easier if you first convert the `Vector{Order}` into a DataFrame for easier analysis. \n",
    "\n",
    "Your first task is to write a new _method_ for the `DataFrame` function that consumes `Vector{Order}` and returns `DataFrame`\n",
    "\n",
    "> Note, there are many ways to do this. We are just looking for one that works"
   ]
  },
  {
   "cell_type": "code",
   "execution_count": 64,
   "id": "de778ba2",
   "metadata": {},
   "outputs": [
    {
     "name": "stderr",
     "output_type": "stream",
     "text": [
      "\u001b[32m\u001b[1m    Updating\u001b[22m\u001b[39m registry at `C:\\Users\\Sruthi\\.julia\\registries\\General.toml`\n"
     ]
    },
    {
     "name": "stderr",
     "output_type": "stream",
     "text": [
      "\u001b[32m\u001b[1m   Resolving\u001b[22m\u001b[39m package versions..."
     ]
    },
    {
     "name": "stderr",
     "output_type": "stream",
     "text": [
      "\n"
     ]
    },
    {
     "name": "stderr",
     "output_type": "stream",
     "text": [
      "\u001b[32m\u001b[1m   Installed\u001b[22m\u001b[39m IteratorInterfaceExtensions ─ v1.0.0\n"
     ]
    },
    {
     "name": "stderr",
     "output_type": "stream",
     "text": [
      "\u001b[32m\u001b[1m   Installed\u001b[22m\u001b[39m Crayons ───────────────────── v4.1.1\n",
      "\u001b[32m\u001b[1m   Installed\u001b[22m\u001b[39m SentinelArrays ────────────── v1.4.0\n",
      "\u001b[32m\u001b[1m   Installed\u001b[22m\u001b[39m PooledArrays ──────────────── v1.4.2\n",
      "\u001b[32m\u001b[1m   Installed\u001b[22m\u001b[39m InlineStrings ─────────────── v1.4.0\n"
     ]
    },
    {
     "name": "stderr",
     "output_type": "stream",
     "text": [
      "\u001b[32m\u001b[1m   Installed\u001b[22m\u001b[39m Tables ────────────────────── v1.10.1\n",
      "\u001b[32m\u001b[1m   Installed\u001b[22m\u001b[39m TableTraits ───────────────── v1.0.1\n"
     ]
    },
    {
     "name": "stderr",
     "output_type": "stream",
     "text": [
      "\u001b[32m\u001b[1m   Installed\u001b[22m\u001b[39m DataValueInterfaces ───────── v1.0.0\n",
      "\u001b[32m\u001b[1m   Installed\u001b[22m\u001b[39m InvertedIndices ───────────── v1.3.0\n",
      "\u001b[32m\u001b[1m   Installed\u001b[22m\u001b[39m LaTeXStrings ──────────────── v1.3.0\n"
     ]
    },
    {
     "name": "stderr",
     "output_type": "stream",
     "text": [
      "\u001b[32m\u001b[1m   Installed\u001b[22m\u001b[39m StringManipulation ────────── v0.3.2\n",
      "\u001b[32m\u001b[1m   Installed\u001b[22m\u001b[39m PrettyTables ──────────────── v2.2.7\n"
     ]
    },
    {
     "name": "stderr",
     "output_type": "stream",
     "text": [
      "\u001b[32m\u001b[1m   Installed\u001b[22m\u001b[39m DataFrames ────────────────── v1.6.1\n"
     ]
    },
    {
     "name": "stderr",
     "output_type": "stream",
     "text": [
      "\u001b[32m\u001b[1m    Updating\u001b[22m\u001b[39m `C:\\Users\\Sruthi\\.julia\\environments\\v1.9\\Project.toml`\n",
      "  \u001b[90m[a93c6f00] \u001b[39m\u001b[92m+ DataFrames v1.6.1\u001b[39m\n",
      "\u001b[32m\u001b[1m    Updating\u001b[22m\u001b[39m `C:\\Users\\Sruthi\\.julia\\environments\\v1.9\\Manifest.toml`\n"
     ]
    },
    {
     "name": "stderr",
     "output_type": "stream",
     "text": [
      "  \u001b[90m[a8cc5b0e] \u001b[39m\u001b[92m+ Crayons v4.1.1\u001b[39m\n",
      "  \u001b[90m[a93c6f00] \u001b[39m\u001b[92m+ DataFrames v1.6.1\u001b[39m\n",
      "  \u001b[90m[e2d170a0] \u001b[39m\u001b[92m+ DataValueInterfaces v1.0.0\u001b[39m\n",
      "  \u001b[90m[842dd82b] \u001b[39m\u001b[92m+ InlineStrings v1.4.0\u001b[39m\n",
      "  \u001b[90m[41ab1584] \u001b[39m\u001b[92m+ InvertedIndices v1.3.0\u001b[39m\n",
      "  \u001b[90m[82899510] \u001b[39m\u001b[92m+ IteratorInterfaceExtensions v1.0.0\u001b[39m\n",
      "  \u001b[90m[b964fa9f] \u001b[39m\u001b[92m+ LaTeXStrings v1.3.0\u001b[39m\n",
      "  \u001b[90m[2dfb63ee] \u001b[39m\u001b[92m+ PooledArrays v1.4.2\u001b[39m\n",
      "  \u001b[90m[08abe8d2] \u001b[39m\u001b[92m+ PrettyTables v2.2.7\u001b[39m\n",
      "  \u001b[90m[91c51154] \u001b[39m\u001b[92m+ SentinelArrays v1.4.0\u001b[39m\n",
      "  \u001b[90m[892a3eda] \u001b[39m\u001b[92m+ StringManipulation v0.3.2\u001b[39m\n",
      "  \u001b[90m[3783bdb8] \u001b[39m\u001b[92m+ TableTraits v1.0.1\u001b[39m\n",
      "  \u001b[90m[bd369af6] \u001b[39m\u001b[92m+ Tables v1.10.1\u001b[39m\n",
      "  \u001b[90m[9fa8497b] \u001b[39m\u001b[92m+ Future\u001b[39m"
     ]
    },
    {
     "name": "stderr",
     "output_type": "stream",
     "text": [
      "\n",
      "\u001b[32m\u001b[1mPrecompiling\u001b[22m\u001b[39m "
     ]
    },
    {
     "name": "stderr",
     "output_type": "stream",
     "text": [
      "project..."
     ]
    },
    {
     "name": "stderr",
     "output_type": "stream",
     "text": [
      "\n"
     ]
    },
    {
     "name": "stderr",
     "output_type": "stream",
     "text": [
      "\u001b[32m  ✓ \u001b[39m\u001b[90mIteratorInterfaceExtensions\u001b[39m\n",
      "\u001b[32m  ✓ \u001b[39m\u001b[90mDataValueInterfaces\u001b[39m\n",
      "\u001b[32m  ✓ \u001b[39m\u001b[90mLaTeXStrings\u001b[39m\n"
     ]
    },
    {
     "name": "stderr",
     "output_type": "stream",
     "text": [
      "\u001b[32m  ✓ \u001b[39m\u001b[90mInvertedIndices\u001b[39m"
     ]
    },
    {
     "name": "stderr",
     "output_type": "stream",
     "text": [
      "\n",
      "\u001b[32m  ✓ \u001b[39m"
     ]
    },
    {
     "name": "stderr",
     "output_type": "stream",
     "text": [
      "\u001b[90mSentinelArrays\u001b[39m\n"
     ]
    },
    {
     "name": "stderr",
     "output_type": "stream",
     "text": [
      "\u001b[32m  ✓ \u001b[39m\u001b[90mPooledArrays\u001b[39m\n"
     ]
    },
    {
     "name": "stderr",
     "output_type": "stream",
     "text": [
      "\u001b[32m  ✓ \u001b[39m\u001b[90mTableTraits\u001b[39m\n"
     ]
    },
    {
     "name": "stderr",
     "output_type": "stream",
     "text": [
      "\u001b[32m  ✓ \u001b[39m\u001b[90mCrayons\u001b[39m\n",
      "\u001b[32m  ✓ \u001b[39m\u001b[90mInlineStrings\u001b[39m\n"
     ]
    },
    {
     "name": "stderr",
     "output_type": "stream",
     "text": [
      "\u001b[32m  ✓ \u001b[39m\u001b[90mStringManipulation\u001b[39m\n"
     ]
    },
    {
     "name": "stderr",
     "output_type": "stream",
     "text": [
      "\u001b[32m  ✓ \u001b[39m\u001b[90mTables\u001b[39m\n"
     ]
    },
    {
     "name": "stderr",
     "output_type": "stream",
     "text": [
      "\u001b[32m  ✓ \u001b[39m\u001b[90mPrettyTables\u001b[39m\n"
     ]
    },
    {
     "name": "stderr",
     "output_type": "stream",
     "text": [
      "\u001b[32m  ✓ \u001b[39mDataFrames\n",
      "  13 dependencies successfully precompiled in 109 seconds. 52 already precompiled.\n"
     ]
    }
   ],
   "source": [
    "using Pkg\n",
    "Pkg.add(\"DataFrames\")"
   ]
  },
  {
   "cell_type": "code",
   "execution_count": 65,
   "id": "3c4abff5",
   "metadata": {},
   "outputs": [
    {
     "name": "stderr",
     "output_type": "stream",
     "text": [
      "\u001b[32m\u001b[1m   Resolving\u001b[22m\u001b[39m package versions...\n"
     ]
    },
    {
     "name": "stderr",
     "output_type": "stream",
     "text": [
      "\u001b[32m\u001b[1m    Updating\u001b[22m\u001b[39m `C:\\Users\\Sruthi\\.julia\\environments\\v1.9\\Project.toml`\n",
      "  \u001b[90m[10745b16] \u001b[39m\u001b[92m+ Statistics v1.9.0\u001b[39m\n",
      "\u001b[32m\u001b[1m  No Changes\u001b[22m\u001b[39m to `C:\\Users\\Sruthi\\.julia\\environments\\v1.9\\Manifest.toml`\n"
     ]
    }
   ],
   "source": [
    "using Pkg\n",
    "Pkg.add(\"Statistics\")"
   ]
  },
  {
   "cell_type": "code",
   "execution_count": 19,
   "id": "bb18c36f-7f02-4da4-a6e6-ae1afb65e9f8",
   "metadata": {
    "nbgrader": {
     "grade": false,
     "grade_id": "cell-5e0caf2f5539e183",
     "locked": true,
     "schema_version": 3,
     "solution": false,
     "task": false
    },
    "tags": []
   },
   "outputs": [],
   "source": [
    "using DataFrames, Statistics  # You'll need this ;)\n",
    "\n",
    "# your should fill in the body of the function below (copy/paste to cell below \n",
    "# and fill in)\n",
    "\n",
    "\n",
    "function DataFrames.DataFrame(orders::Vector{Order})\n",
    "        df=DataFrame(item=[],price=[],customer=[],date=[])\n",
    "        for i in orders\n",
    "               neworder=(item=i.item,price=i.price,customer=i.customer,date=i.date)\n",
    "               push!(df,neworder)\n",
    "        \n",
    "        end\n",
    "\n",
    "\n",
    "        \n",
    "        #price=orders.price\n",
    "        #df=DataFrame(Name=name,Cost=price)\n",
    "        return df\n",
    "\n",
    "end"
   ]
  },
  {
   "cell_type": "code",
   "execution_count": 21,
   "id": "e0a6d924",
   "metadata": {},
   "outputs": [
    {
     "data": {
      "text/html": [
       "<div><div style = \"float: left;\"><span>2×4 DataFrame</span></div><div style = \"clear: both;\"></div></div><div class = \"data-frame\" style = \"overflow-x: scroll;\"><table class = \"data-frame\" style = \"margin-bottom: 6px;\"><thead><tr class = \"header\"><th class = \"rowNumber\" style = \"font-weight: bold; text-align: right;\">Row</th><th style = \"text-align: left;\">item</th><th style = \"text-align: left;\">price</th><th style = \"text-align: left;\">customer</th><th style = \"text-align: left;\">date</th></tr><tr class = \"subheader headerLastRow\"><th class = \"rowNumber\" style = \"font-weight: bold; text-align: right;\"></th><th title = \"Any\" style = \"text-align: left;\">Any</th><th title = \"Any\" style = \"text-align: left;\">Any</th><th title = \"Any\" style = \"text-align: left;\">Any</th><th title = \"Any\" style = \"text-align: left;\">Any</th></tr></thead><tbody><tr><td class = \"rowNumber\" style = \"font-weight: bold; text-align: right;\">1</td><td style = \"text-align: left;\">Item(&quot;shoes&quot;, 6, RGB{N0f8}(0.0,0.259,0.145))</td><td style = \"text-align: left;\">15.99</td><td style = \"text-align: left;\">Customer(&quot;Jill&quot;, &quot;Jones&quot;, &quot;jill@jones.com&quot;, Address(456, &quot;Central Ave&quot;, &quot;&quot;, &quot;Orlando&quot;, &quot;Florida&quot;, 34768))</td><td style = \"text-align: left;\">2022-08-29T03:04:06</td></tr><tr><td class = \"rowNumber\" style = \"font-weight: bold; text-align: right;\">2</td><td style = \"text-align: left;\">Item(&quot;shirt&quot;, 16, RGB{N0f8}(1.0,0.0,0.0))</td><td style = \"text-align: left;\">19.25</td><td style = \"text-align: left;\">Customer(&quot;Jill&quot;, &quot;Jones&quot;, &quot;jill@jones.com&quot;, Address(456, &quot;Central Ave&quot;, &quot;&quot;, &quot;Orlando&quot;, &quot;Florida&quot;, 34768))</td><td style = \"text-align: left;\">2022-08-29T03:04:07</td></tr></tbody></table></div>"
      ],
      "text/latex": [
       "\\begin{tabular}{r|cccc}\n",
       "\t& item & price & customer & \\\\\n",
       "\t\\hline\n",
       "\t& Any & Any & Any & \\\\\n",
       "\t\\hline\n",
       "\t1 & Item(\"shoes\", 6, RGB\\{N0f8\\}(0.0,0.259,0.145)) & 15.99 & Customer(\"Jill\", \"Jones\", \"jill@jones.com\", Address(456, \"Central Ave\", \"\", \"Orlando\", \"Florida\", 34768)) & $\\dots$ \\\\\n",
       "\t2 & Item(\"shirt\", 16, RGB\\{N0f8\\}(1.0,0.0,0.0)) & 19.25 & Customer(\"Jill\", \"Jones\", \"jill@jones.com\", Address(456, \"Central Ave\", \"\", \"Orlando\", \"Florida\", 34768)) & $\\dots$ \\\\\n",
       "\\end{tabular}\n"
      ],
      "text/plain": [
       "\u001b[1m2×4 DataFrame\u001b[0m\n",
       "\u001b[1m Row \u001b[0m│\u001b[1m item                              \u001b[0m\u001b[1m price \u001b[0m\u001b[1m customer                     \u001b[0m ⋯\n",
       "     │\u001b[90m Any                               \u001b[0m\u001b[90m Any   \u001b[0m\u001b[90m Any                          \u001b[0m ⋯\n",
       "─────┼──────────────────────────────────────────────────────────────────────────\n",
       "   1 │ Item(\"shoes\", 6, RGB{N0f8}(0.0,0…  15.99  Customer(\"Jill\", \"Jones\", \"ji ⋯\n",
       "   2 │ Item(\"shirt\", 16, RGB{N0f8}(1.0,…  19.25  Customer(\"Jill\", \"Jones\", \"ji\n",
       "\u001b[36m                                                               2 columns omitted\u001b[0m"
      ]
     },
     "metadata": {},
     "output_type": "display_data"
    }
   ],
   "source": [
    "a2 = Address(456, \"Central Ave\", \"\", \"Orlando\", \"Florida\", 34768)\n",
    "c2 = Customer(\"Jill\", \"Jones\", \"jill@jones.com\", a2)\n",
    "i2 = Item(\"shirt\", 16, colorant\"red\")\n",
    "o1 = Order(test_customer, test_item, 15.99, DateTime(2022, 8, 29, 3, 4, 5))\n",
    "o2 = Order(c2, test_item, 15.99, DateTime(2022, 8, 29, 3, 4, 6))\n",
    "o3 = Order(c2, i2, 19.25, DateTime(2022, 8, 29, 3, 4, 7))\n",
    "\n",
    "DataFrame([o2,o3])"
   ]
  },
  {
   "cell_type": "code",
   "execution_count": null,
   "id": "b0191b30",
   "metadata": {},
   "outputs": [],
   "source": []
  },
  {
   "cell_type": "code",
   "execution_count": null,
   "id": "1e1e16f9",
   "metadata": {},
   "outputs": [],
   "source": []
  },
  {
   "cell_type": "code",
   "execution_count": 23,
   "id": "73d24369-3c71-4e8a-9c37-543ef137c588",
   "metadata": {
    "nbgrader": {
     "grade": false,
     "grade_id": "cell-af0f3e8c2a86e211",
     "locked": false,
     "schema_version": 3,
     "solution": true,
     "task": false
    },
    "tags": []
   },
   "outputs": [],
   "source": [
    "# TODO: your code here\n",
    "\n",
    "\n",
    "\n",
    "function DataFrames.DataFrame(orders::Vector{Order})\n",
    "        df=DataFrame(item=[],price=[],customer=[],date=[])\n",
    "        for i in orders\n",
    "               neworder=(item=i.item,price=i.price,customer=i.customer,date=i.date)\n",
    "               push!(df,neworder)\n",
    "        \n",
    "        end\n",
    "        return df\n",
    "\n",
    "end"
   ]
  },
  {
   "cell_type": "code",
   "execution_count": 24,
   "id": "7abfe814-2ad7-4e20-9698-62f79b66b2e4",
   "metadata": {
    "nbgrader": {
     "grade": true,
     "grade_id": "cell-23c4f58f5f454920",
     "locked": true,
     "points": 10,
     "schema_version": 3,
     "solution": false,
     "task": false
    },
    "tags": []
   },
   "outputs": [
    {
     "name": "stdout",
     "output_type": "stream",
     "text": [
      "\u001b[0m\u001b[1mTest Summary: | \u001b[22m\u001b[32m\u001b[1mPass  \u001b[22m\u001b[39m\u001b[36m\u001b[1mTotal  \u001b[22m\u001b[39m\u001b[0m\u001b[1mTime\u001b[22m\n",
      "ex7.1         | \u001b[32m   3  \u001b[39m\u001b[36m    3  \u001b[39m\u001b[0m0.0s\n"
     ]
    },
    {
     "data": {
      "text/plain": [
       "Test.DefaultTestSet(\"ex7.1\", Any[], 3, false, false, true, 1.694302924347e9, 1.69430292437e9, false)"
      ]
     },
     "metadata": {},
     "output_type": "display_data"
    }
   ],
   "source": [
    "@testset \"ex7.1\" begin\n",
    "    df = DataFrame([o1, o2, o3])\n",
    "    @test df isa DataFrame\n",
    "    @test size(df) == (3, 4)\n",
    "    @test Set(names(df)) == Set([\"item\", \"price\", \"customer\", \"date\"])\n",
    "end"
   ]
  },
  {
   "cell_type": "markdown",
   "id": "a8c0b0f8-b56b-4aae-8ee6-1c8ef265cc5e",
   "metadata": {
    "nbgrader": {
     "grade": false,
     "grade_id": "cell-b248ebfd09ac8d41",
     "locked": true,
     "schema_version": 3,
     "solution": false,
     "task": false
    },
    "tags": []
   },
   "source": [
    "### Part 2\n",
    "\n",
    "Now that you can convert a list of Orders into a `DataFrame`, use the DataFrames package to produce the report your boss asked for.\n",
    "\n",
    "The column names should be\n",
    "\n",
    "- `total_value`\n",
    "- `avg_order_value`\n",
    "- `n_unique_items`\n",
    "- `n_orders`\n",
    "\n",
    "Implement your routine in a function with the following signature\n",
    "\n",
    "`customer_report(::Vector{Order})#::DataFrame`\n",
    "\n",
    "> Hint: you should have one row per customer that appears in the list of orders\n",
    "\n",
    "> Hint 2: See [this page](https://dataframes.juliadata.org/stable/man/split_apply_combine/) of DataFrames.jl docs\n",
    "\n",
    "> Hint 3: the easiest way to use the `combine` method (see doc link above) is to have the second argument be a function like `x -> (total_value = sum(x.price), ...)` -- note I just gave you the part of the answer needed to compute the total value column. Your job is to replace the `...` with logic needed for the other three columns"
   ]
  },
  {
   "cell_type": "code",
   "execution_count": 109,
   "id": "80b0501f-6bb4-46ea-886b-2f3dc219be83",
   "metadata": {
    "nbgrader": {
     "grade": false,
     "grade_id": "cell-5e9fe0eb39610c14",
     "locked": false,
     "schema_version": 3,
     "solution": true,
     "task": false
    },
    "tags": []
   },
   "outputs": [
    {
     "data": {
      "text/plain": [
       "customer_report (generic function with 1 method)"
      ]
     },
     "metadata": {},
     "output_type": "display_data"
    }
   ],
   "source": [
    "# TODO: your code here\n",
    "function customer_report(orders::Vector{Order})\n",
    "    y=DataFrame(price=[],custo=[],item=[])\n",
    "    for i in orders\n",
    "        neworder=(price=i.price,custo=i.customer,item=i.item)\n",
    "        push!(y,neworder)\n",
    "    end\n",
    "    grouped_df = combine(groupby(y, :custo), :price => sum, :price => mean,:item =>length,:custo => length)\n",
    "    rename!(grouped_df,:custo=>:customer,:price_sum=>:total_value,:price_mean=>:avg_order_value,:item_length=>:n_unique_items,:custo_length=>:n_orders)\n",
    "    \n",
    "    return grouped_df\n",
    "    \n",
    "\n",
    "\n",
    "\n",
    "end"
   ]
  },
  {
   "cell_type": "code",
   "execution_count": 110,
   "id": "2b83b9fe",
   "metadata": {},
   "outputs": [
    {
     "data": {
      "text/html": [
       "<div><div style = \"float: left;\"><span>2×5 DataFrame</span></div><div style = \"clear: both;\"></div></div><div class = \"data-frame\" style = \"overflow-x: scroll;\"><table class = \"data-frame\" style = \"margin-bottom: 6px;\"><thead><tr class = \"header\"><th class = \"rowNumber\" style = \"font-weight: bold; text-align: right;\">Row</th><th style = \"text-align: left;\">customer</th><th style = \"text-align: left;\">total_value</th><th style = \"text-align: left;\">avg_order_value</th><th style = \"text-align: left;\">n_unique_items</th><th style = \"text-align: left;\">n_orders</th></tr><tr class = \"subheader headerLastRow\"><th class = \"rowNumber\" style = \"font-weight: bold; text-align: right;\"></th><th title = \"Any\" style = \"text-align: left;\">Any</th><th title = \"Float64\" style = \"text-align: left;\">Float64</th><th title = \"Float64\" style = \"text-align: left;\">Float64</th><th title = \"Int64\" style = \"text-align: left;\">Int64</th><th title = \"Int64\" style = \"text-align: left;\">Int64</th></tr></thead><tbody><tr><td class = \"rowNumber\" style = \"font-weight: bold; text-align: right;\">1</td><td style = \"text-align: left;\">Customer(&quot;Bill&quot;, &quot;Bob&quot;, &quot;bill@bob.com&quot;, Address(123, &quot;Main Street&quot;, &quot;Apt. 42&quot;, &quot;Orlando&quot;, &quot;Florida&quot;, 34788))</td><td style = \"text-align: right;\">15.99</td><td style = \"text-align: right;\">15.99</td><td style = \"text-align: right;\">1</td><td style = \"text-align: right;\">1</td></tr><tr><td class = \"rowNumber\" style = \"font-weight: bold; text-align: right;\">2</td><td style = \"text-align: left;\">Customer(&quot;Jill&quot;, &quot;Jones&quot;, &quot;jill@jones.com&quot;, Address(456, &quot;Central Ave&quot;, &quot;&quot;, &quot;Orlando&quot;, &quot;Florida&quot;, 34768))</td><td style = \"text-align: right;\">35.24</td><td style = \"text-align: right;\">17.62</td><td style = \"text-align: right;\">2</td><td style = \"text-align: right;\">2</td></tr></tbody></table></div>"
      ],
      "text/latex": [
       "\\begin{tabular}{r|cc}\n",
       "\t& customer & \\\\\n",
       "\t\\hline\n",
       "\t& Any & \\\\\n",
       "\t\\hline\n",
       "\t1 & Customer(\"Bill\", \"Bob\", \"bill@bob.com\", Address(123, \"Main Street\", \"Apt. 42\", \"Orlando\", \"Florida\", 34788)) & $\\dots$ \\\\\n",
       "\t2 & Customer(\"Jill\", \"Jones\", \"jill@jones.com\", Address(456, \"Central Ave\", \"\", \"Orlando\", \"Florida\", 34768)) & $\\dots$ \\\\\n",
       "\\end{tabular}\n"
      ],
      "text/plain": [
       "\u001b[1m2×5 DataFrame\u001b[0m\n",
       "\u001b[1m Row \u001b[0m│\u001b[1m customer                          \u001b[0m\u001b[1m total_value \u001b[0m\u001b[1m avg_order_value \u001b[0m\u001b[1m n_uniq\u001b[0m ⋯\n",
       "     │\u001b[90m Any                               \u001b[0m\u001b[90m Float64     \u001b[0m\u001b[90m Float64         \u001b[0m\u001b[90m Int64 \u001b[0m ⋯\n",
       "─────┼──────────────────────────────────────────────────────────────────────────\n",
       "   1 │ Customer(\"Bill\", \"Bob\", \"bill@bo…        15.99            15.99         ⋯\n",
       "   2 │ Customer(\"Jill\", \"Jones\", \"jill@…        35.24            17.62\n",
       "\u001b[36m                                                               2 columns omitted\u001b[0m"
      ]
     },
     "metadata": {},
     "output_type": "display_data"
    }
   ],
   "source": [
    "a2 = Address(456, \"Central Ave\", \"\", \"Orlando\", \"Florida\", 34768)\n",
    "c2 = Customer(\"Jill\", \"Jones\", \"jill@jones.com\", a2)\n",
    "i2 = Item(\"shirt\", 16, colorant\"red\")\n",
    "o1 = Order(test_customer, test_item, 15.99, DateTime(2022, 8, 29, 3, 4, 5))\n",
    "o2 = Order(c2, test_item, 15.99, DateTime(2022, 8, 29, 3, 4, 6))\n",
    "o3 = Order(c2, i2, 19.25, DateTime(2022, 8, 29, 3, 4, 7))\n",
    "\n",
    "customer_report([o1,o2,o3])"
   ]
  },
  {
   "cell_type": "code",
   "execution_count": 114,
   "id": "429d661a-1f67-4978-903d-0362bd5a0263",
   "metadata": {
    "nbgrader": {
     "grade": true,
     "grade_id": "cell-470a6ce9cf0aec8c",
     "locked": true,
     "points": 10,
     "schema_version": 3,
     "solution": false,
     "task": false
    },
    "tags": []
   },
   "outputs": [
    {
     "name": "stdout",
     "output_type": "stream",
     "text": [
      "\u001b[0m\u001b[1mTest Summary: | \u001b[22m\u001b[32m\u001b[1mPass  \u001b[22m\u001b[39m\u001b[36m\u001b[1mTotal  \u001b[22m\u001b[39m\u001b[0m\u001b[1mTime\u001b[22m\n",
      "ex7.2         | \u001b[32m   6  \u001b[39m\u001b[36m    6  \u001b[39m\u001b[0m0.0s\n"
     ]
    },
    {
     "data": {
      "text/plain": [
       "Test.DefaultTestSet(\"ex7.2\", Any[], 6, false, false, true, 1.694366624672e9, 1.694366624672e9, false)"
      ]
     },
     "metadata": {},
     "output_type": "display_data"
    }
   ],
   "source": [
    "@testset \"ex7.2\" begin\n",
    "    df2 = customer_report([o1, o2, o3])\n",
    "    @test isa(df2, DataFrame)\n",
    "    @test size(df2) == (2, 5)\n",
    "    @test Set(df2.total_value) == Set([15.99, 35.24])\n",
    "    @test Set(df2.avg_order_value) == Set([15.99, 17.62])\n",
    "    @test Set(df2.n_unique_items) == Set([1, 2])\n",
    "    @test Set(df2.n_orders) == Set([1, 2])\n",
    "end"
   ]
  }
 ],
 "metadata": {
  "kernelspec": {
   "display_name": "Julia 1.9.2",
   "language": "julia",
   "name": "julia-1.9"
  },
  "language_info": {
   "file_extension": ".jl",
   "mimetype": "application/julia",
   "name": "julia",
   "version": "1.9.2"
  }
 },
 "nbformat": 4,
 "nbformat_minor": 5
}
