{
 "cells": [
  {
   "cell_type": "markdown",
   "id": "b119252a-9c1b-465b-a781-8c87edab2440",
   "metadata": {
    "nbgrader": {
     "grade": false,
     "grade_id": "cell-8532eff4fe776354",
     "locked": true,
     "schema_version": 3,
     "solution": false,
     "task": false
    },
    "tags": []
   },
   "source": [
    "## HW 1: Julia practice\n",
    "\n",
    "Welcome to your first homework assignment. The purpose of this assignment is to get you up to speed with reading and writing simple Julia programs. Julia is a very human-friendly language with a readable syntax. However, it is different from other languages you may have used before, so it is worthwhile to spend some time learning the basics.\n",
    "\n",
    "The exercises here will build on what we learned in the lecture notes."
   ]
  },
  {
   "cell_type": "markdown",
   "id": "190c98cb-87e2-4a73-8831-51746cc03c19",
   "metadata": {
    "nbgrader": {
     "grade": false,
     "grade_id": "cell-5ff78caf6adfca57",
     "locked": true,
     "schema_version": 3,
     "solution": false,
     "task": false
    },
    "tags": []
   },
   "source": [
    "### Part 1 Basics\n",
    "\n",
    "#### Q1\n",
    "\n",
    "Given the code below. Write some code that will display the message \"z is 7\""
   ]
  },
  {
   "cell_type": "code",
   "execution_count": 5,
   "id": "025bfe0f-2ed6-4e96-9b53-681566f2bacd",
   "metadata": {
    "nbgrader": {
     "grade": false,
     "grade_id": "cell-fde371a96e7fd364",
     "locked": true,
     "schema_version": 3,
     "solution": false,
     "task": false
    },
    "tags": []
   },
   "outputs": [
    {
     "data": {
      "text/plain": [
       "7"
      ]
     },
     "execution_count": 5,
     "metadata": {},
     "output_type": "execute_result"
    }
   ],
   "source": [
    "z = 3\n",
    "z = z + 4"
   ]
  },
  {
   "cell_type": "code",
   "execution_count": 5,
   "id": "93fcb8ad-90f4-4fea-b8e7-b621d4151a02",
   "metadata": {
    "nbgrader": {
     "grade": false,
     "grade_id": "cell-21591cb1b62c8135",
     "locked": true,
     "points": 10,
     "schema_version": 3,
     "solution": false,
     "task": true
    },
    "tags": []
   },
   "outputs": [
    {
     "name": "stdout",
     "output_type": "stream",
     "text": [
      "z is 7 \n"
     ]
    }
   ],
   "source": [
    "# your code here\n",
    "z=7\n",
    "println(\"z is $z \")"
   ]
  },
  {
   "cell_type": "markdown",
   "id": "bb1ab01e-a575-4c66-949f-986c39900bde",
   "metadata": {
    "nbgrader": {
     "grade": false,
     "grade_id": "cell-937670116eba3e7a",
     "locked": true,
     "schema_version": 3,
     "solution": false,
     "task": false
    },
    "tags": []
   },
   "source": [
    "### Q2\n",
    "\n",
    "Read about the `length` and `size` functions\n",
    "\n",
    "How are they similar, how do they differ?\n",
    "\n",
    "Explain in our own words\n",
    "\n",
    "> Hint: you may want to use the variables below to help you as you seek to understand these two functions"
   ]
  },
  {
   "cell_type": "code",
   "execution_count": 8,
   "id": "b65dec60-b119-4d1a-abce-5151e51b6c6e",
   "metadata": {
    "nbgrader": {
     "grade": false,
     "grade_id": "cell-9fce8bf47793ec3c",
     "locked": true,
     "schema_version": 3,
     "solution": false,
     "task": false
    },
    "tags": []
   },
   "outputs": [],
   "source": [
    "x = [1, 2, 3]\n",
    "y = \"hello\"\n",
    "z = [1 2; 3 4];"
   ]
  },
  {
   "cell_type": "markdown",
   "id": "81ded635",
   "metadata": {},
   "source": [
    "-- Size() returns a number of rows and columns in an array. cannot be used to find the length of a string.output will be in the form of tuple with integer values.\n",
    "--length() returns a total number of elements in an array. Can also be used to find the length of a string.output will be in the form of integers."
   ]
  },
  {
   "cell_type": "markdown",
   "id": "e84afcda-0fde-47d6-8347-50c1f57cdb24",
   "metadata": {
    "nbgrader": {
     "grade": false,
     "grade_id": "cell-e7f1a934c896fa1a",
     "locked": true,
     "points": 10,
     "schema_version": 3,
     "solution": false,
     "task": true
    },
    "tags": []
   },
   "source": [
    "### Q3\n",
    "\n",
    "Write the code needed to create the following variables:\n",
    "\n",
    "- `D`: A floating point number with the value 10,000\n",
    "- `r`: A floating point number with value 0.025\n",
    "- `T`: An integer with value 30"
   ]
  },
  {
   "cell_type": "code",
   "execution_count": 9,
   "id": "74c3eb82-b55d-4a99-9794-01e4b8a6ead5",
   "metadata": {
    "nbgrader": {
     "grade": false,
     "grade_id": "cell-54b8961f7748884f",
     "locked": false,
     "schema_version": 3,
     "solution": true,
     "task": false
    },
    "tags": []
   },
   "outputs": [
    {
     "name": "stdout",
     "output_type": "stream",
     "text": [
      "10000.0\n",
      "0.025"
     ]
    },
    {
     "name": "stdout",
     "output_type": "stream",
     "text": [
      "\n",
      "30\n"
     ]
    }
   ],
   "source": [
    "# your code here\n",
    "D=10000\n",
    "println(float(D))\n",
    "r=0.025\n",
    "println(r)\n",
    "T=30\n",
    "println(T)"
   ]
  }
 ],
 "metadata": {
  "kernelspec": {
   "display_name": "Julia 1.9.2",
   "language": "julia",
   "name": "julia-1.9"
  },
  "language_info": {
   "file_extension": ".jl",
   "mimetype": "application/julia",
   "name": "julia",
   "version": "1.9.2"
  }
 },
 "nbformat": 4,
 "nbformat_minor": 5
}
